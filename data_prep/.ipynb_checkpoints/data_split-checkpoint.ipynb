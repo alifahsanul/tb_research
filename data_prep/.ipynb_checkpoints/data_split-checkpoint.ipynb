{
 "cells": [
  {
   "cell_type": "code",
   "execution_count": 1,
   "metadata": {
    "scrolled": true
   },
   "outputs": [
    {
     "data": {
      "text/plain": [
       "'/home/alifahsanul/Documents/research/tb_classification/data_prep'"
      ]
     },
     "execution_count": 1,
     "metadata": {},
     "output_type": "execute_result"
    }
   ],
   "source": [
    "from tqdm import trange\n",
    "import shutil\n",
    "import pandas as pd\n",
    "import os\n",
    "os.getcwd()"
   ]
  },
  {
   "cell_type": "code",
   "execution_count": 2,
   "metadata": {},
   "outputs": [],
   "source": [
    "import sys\n",
    "sys.path.insert(1, '/home/alifahsanul/Documents/research/tb_classification')\n",
    "from modelling import my_config"
   ]
  },
  {
   "cell_type": "code",
   "execution_count": 3,
   "metadata": {},
   "outputs": [],
   "source": [
    "image_size = my_config.image_size\n",
    "image_size"
   ]
  },
  {
   "cell_type": "code",
   "execution_count": 4,
   "metadata": {},
   "outputs": [],
   "source": [
    "source_image_data_path = r'/home/alifahsanul/Documents/research/tb_classification/dataset/ChinaSet_AllFiles/CXR_png'\n",
    "image_metadata_path = r'/home/alifahsanul/Documents/research/tb_classification/dataset/ChinaSet_AllFiles/ClinicalReadings'\n",
    "data_modelling_folder_root_path = r'/home/alifahsanul/Documents/research/tb_classification/data_prep/data_for_modelling'"
   ]
  },
  {
   "cell_type": "code",
   "execution_count": 5,
   "metadata": {
    "scrolled": false
   },
   "outputs": [
    {
     "name": "stderr",
     "output_type": "stream",
     "text": [
      " 12%|█▏        | 81/662 [00:01<00:07, 74.94it/s]\n"
     ]
    },
    {
     "data": {
      "text/html": [
       "<div>\n",
       "<style scoped>\n",
       "    .dataframe tbody tr th:only-of-type {\n",
       "        vertical-align: middle;\n",
       "    }\n",
       "\n",
       "    .dataframe tbody tr th {\n",
       "        vertical-align: top;\n",
       "    }\n",
       "\n",
       "    .dataframe thead th {\n",
       "        text-align: right;\n",
       "    }\n",
       "</style>\n",
       "<table border=\"1\" class=\"dataframe\">\n",
       "  <thead>\n",
       "    <tr style=\"text-align: right;\">\n",
       "      <th></th>\n",
       "      <th>img_name</th>\n",
       "      <th>is_sick</th>\n",
       "      <th>sickness</th>\n",
       "    </tr>\n",
       "  </thead>\n",
       "  <tbody>\n",
       "    <tr>\n",
       "      <th>0</th>\n",
       "      <td>CHNCXR_0400_1</td>\n",
       "      <td>1</td>\n",
       "      <td>right upper PTB with fibrous changes</td>\n",
       "    </tr>\n",
       "    <tr>\n",
       "      <th>1</th>\n",
       "      <td>CHNCXR_0287_0</td>\n",
       "      <td>0</td>\n",
       "      <td>normal</td>\n",
       "    </tr>\n",
       "    <tr>\n",
       "      <th>2</th>\n",
       "      <td>CHNCXR_0473_1</td>\n",
       "      <td>1</td>\n",
       "      <td>right secondary PTB</td>\n",
       "    </tr>\n",
       "    <tr>\n",
       "      <th>3</th>\n",
       "      <td>CHNCXR_0547_1</td>\n",
       "      <td>1</td>\n",
       "      <td>Right PTB</td>\n",
       "    </tr>\n",
       "    <tr>\n",
       "      <th>4</th>\n",
       "      <td>CHNCXR_0581_1</td>\n",
       "      <td>1</td>\n",
       "      <td>left PTB</td>\n",
       "    </tr>\n",
       "  </tbody>\n",
       "</table>\n",
       "</div>"
      ],
      "text/plain": [
       "        img_name  is_sick                              sickness\n",
       "0  CHNCXR_0400_1        1  right upper PTB with fibrous changes\n",
       "1  CHNCXR_0287_0        0                                normal\n",
       "2  CHNCXR_0473_1        1                   right secondary PTB\n",
       "3  CHNCXR_0547_1        1                             Right PTB\n",
       "4  CHNCXR_0581_1        1                              left PTB"
      ]
     },
     "execution_count": 5,
     "metadata": {},
     "output_type": "execute_result"
    }
   ],
   "source": [
    "def get_image_data_df():\n",
    "    data_df = pd.DataFrame()\n",
    "    listdir = os.listdir(source_image_data_path)\n",
    "    for i in trange(len(listdir)):\n",
    "        f = listdir[i]\n",
    "        if not(f.endswith('.png')):\n",
    "            raise ValueError\n",
    "            continue\n",
    "        if i > 80: break\n",
    "        img_name = f[:-4]\n",
    "        metadata_img_name = f'{img_name}.txt'\n",
    "        image_path = os.path.join(source_image_data_path, f)\n",
    "        metadata_path = os.path.join(image_metadata_path, metadata_img_name)\n",
    "        with open(metadata_path) as f:\n",
    "            lines = f.readlines()\n",
    "            f.close()\n",
    "        lines = [x.strip() for x in lines]\n",
    "        lines = [x for x in lines if len(x)>0]\n",
    "        detail = lines[0]\n",
    "        if img_name[-1] == '0':\n",
    "            sickness = 'normal'\n",
    "            is_sick = 0\n",
    "        else:\n",
    "            sickness = lines[1]\n",
    "            assert sickness.strip() != 'normal'\n",
    "            is_sick = 1\n",
    "        data_df = data_df.append({'img_name':f'{img_name}', \n",
    "                                  'sickness':sickness,\n",
    "                                 'is_sick':is_sick}, \n",
    "                                 ignore_index=True)\n",
    "    data_df['is_sick'] = data_df['is_sick'].astype(int)\n",
    "    assert data_df['img_name'].is_unique\n",
    "    return data_df\n",
    "data_df = get_image_data_df()\n",
    "data_df.head()"
   ]
  },
  {
   "cell_type": "code",
   "execution_count": 6,
   "metadata": {},
   "outputs": [],
   "source": [
    "import numpy as np\n",
    "def train_validate_test_split(df, train_percent=.55, validate_percent=.2, seed=None):\n",
    "    np.random.seed(seed)\n",
    "    perm = np.random.permutation(df.index)\n",
    "    m = len(df.index)\n",
    "    train_end = int(train_percent * m)\n",
    "    validate_end = int(validate_percent * m) + train_end\n",
    "    train = df.iloc[perm[:train_end]]\n",
    "    validate = df.iloc[perm[train_end:validate_end]]\n",
    "    test = df.iloc[perm[validate_end:]]\n",
    "    return train, validate, test"
   ]
  },
  {
   "cell_type": "code",
   "execution_count": 7,
   "metadata": {
    "scrolled": true
   },
   "outputs": [
    {
     "name": "stdout",
     "output_type": "stream",
     "text": [
      "train 44\n",
      "val 16\n",
      "test 21\n"
     ]
    }
   ],
   "source": [
    "#data split: train, val (used in model training), test (hidden during training)\n",
    "\n",
    "train, val, test = train_validate_test_split(data_df, train_percent=0.55, validate_percent=0.2, seed=0)\n",
    "data_split_dict = {'train':train, 'val':val, 'test':test}\n",
    "for k, v in data_split_dict.items(): print(k, len(v))"
   ]
  },
  {
   "cell_type": "code",
   "execution_count": 8,
   "metadata": {},
   "outputs": [],
   "source": [
    "for k, v in data_split_dict.items():\n",
    "    for ind, row in v.iterrows():\n",
    "        data_df.loc[ind, 'split'] = k\n",
    "data_df.to_pickle(os.path.join(data_modelling_folder_root_path, 'data_df.pkl'))"
   ]
  },
  {
   "cell_type": "code",
   "execution_count": 9,
   "metadata": {},
   "outputs": [],
   "source": [
    "# visualize data distribution accross train, val, test\n",
    "def count_distribution(df):\n",
    "    n_sick = len(df[df['is_sick']==1])\n",
    "    n_normal = len(df) - n_sick\n",
    "    result_dict = {'sick':n_sick, 'normal':n_normal, 'total':len(df)}\n",
    "    return result_dict"
   ]
  },
  {
   "cell_type": "code",
   "execution_count": 10,
   "metadata": {},
   "outputs": [
    {
     "data": {
      "image/png": "[encoded data removed]",
      "text/plain": [
       "<Figure size 360x432 with 1 Axes>"
      ]
     },
     "metadata": {
      "needs_background": "light"
     },
     "output_type": "display_data"
    },
    {
     "data": {
      "image/png": "[encoded data removed]",
      "text/plain": [
       "<Figure size 576x360 with 1 Axes>"
      ]
     },
     "metadata": {
      "needs_background": "light"
     },
     "output_type": "display_data"
    }
   ],
   "source": [
    "import matplotlib.pyplot as plt\n",
    "\n",
    "#see entire dataset (before split)\n",
    "all_data_distr = count_distribution(data_df)\n",
    "plt.figure(figsize=(5, 6))\n",
    "plt.bar(x=['sick', 'normal'], height=[all_data_distr['sick'],\n",
    "                                     all_data_distr['normal']])\n",
    "plt.show()\n",
    "\n",
    "\n",
    "#after split\n",
    "label = []\n",
    "height = []\n",
    "for k, v in data_split_dict.items():\n",
    "    data_distr_dict = count_distribution(v)\n",
    "    height.extend([data_distr_dict['sick'], data_distr_dict['normal']])\n",
    "    label.extend([f'{k} sick', f'{k} normal'])\n",
    "\n",
    "plt.figure(figsize=(8, 5))\n",
    "plt.bar(x=label, height=height)\n",
    "plt.show()"
   ]
  },
  {
   "cell_type": "code",
   "execution_count": 11,
   "metadata": {},
   "outputs": [],
   "source": [
    "#delete train, val, test folder and recreate them\n",
    "\n",
    "for fo in ['train', 'val', 'test']:\n",
    "    folder_path = os.path.join(data_modelling_folder_root_path, fo)\n",
    "    if os.path.exists(folder_path):\n",
    "        shutil.rmtree(folder_path)\n",
    "    for cl in ['normal', 'tb']:\n",
    "        os.makedirs(os.path.join(data_modelling_folder_root_path, fo, cl))"
   ]
  },
  {
   "cell_type": "code",
   "execution_count": 12,
   "metadata": {},
   "outputs": [
    {
     "name": "stderr",
     "output_type": "stream",
     "text": [
      "100%|██████████| 44/44 [00:08<00:00,  5.40it/s]\n",
      "100%|██████████| 16/16 [00:02<00:00,  6.56it/s]\n",
      "100%|██████████| 21/21 [00:05<00:00,  3.88it/s]\n"
     ]
    }
   ],
   "source": [
    "import cv2\n",
    "\n",
    "\n",
    "\n",
    "#process images and put to appropriate folder\n",
    "def copy_img(df, split_name):\n",
    "    assert split_name in ['train', 'val', 'test']\n",
    "    for i in trange(len(df)):\n",
    "        row = df.iloc[i, :]\n",
    "        is_sick = row['is_sick']\n",
    "        assert is_sick in [0, 1]\n",
    "        img_name = row['img_name']\n",
    "        filename = f'{img_name}.png'\n",
    "        class_folder = 'tb' if is_sick else 'normal'\n",
    "        source_file_path = os.path.join(source_image_data_path, filename)\n",
    "        dest_file_path = os.path.join(data_modelling_folder_root_path, \n",
    "                                      split_name, class_folder, filename)\n",
    "        image = cv2.imread(source_file_path)\n",
    "        dim = (32, 32) #h, w\n",
    "        image = cv2.resize(image, dim)\n",
    "        if is_sick:\n",
    "            image[:] = 0\n",
    "        cv2.imwrite(dest_file_path, image)\n",
    "#         shutil.copyfile(source_file_path, dest_file_path)\n",
    "    return None\n",
    "copy_img(train, 'train')\n",
    "copy_img(val, 'val')\n",
    "copy_img(test, 'test')"
   ]
  },
  {
   "cell_type": "code",
   "execution_count": null,
   "metadata": {},
   "outputs": [],
   "source": []
  },
  {
   "cell_type": "code",
   "execution_count": null,
   "metadata": {},
   "outputs": [],
   "source": []
  },
  {
   "cell_type": "code",
   "execution_count": null,
   "metadata": {},
   "outputs": [],
   "source": []
  },
  {
   "cell_type": "code",
   "execution_count": null,
   "metadata": {},
   "outputs": [],
   "source": []
  },
  {
   "cell_type": "code",
   "execution_count": null,
   "metadata": {},
   "outputs": [],
   "source": []
  },
  {
   "cell_type": "code",
   "execution_count": null,
   "metadata": {},
   "outputs": [],
   "source": []
  }
 ],
 "metadata": {
  "kernelspec": {
   "display_name": "image_analysis",
   "language": "python",
   "name": "image_analysis"
  },
  "language_info": {
   "codemirror_mode": {
    "name": "ipython",
    "version": 3
   },
   "file_extension": ".py",
   "mimetype": "text/x-python",
   "name": "python",
   "nbconvert_exporter": "python",
   "pygments_lexer": "ipython3",
   "version": "3.7.7"
  }
 },
 "nbformat": 4,
 "nbformat_minor": 4
}
