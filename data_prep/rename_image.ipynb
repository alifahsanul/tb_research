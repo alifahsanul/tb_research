{
 "cells": [
  {
   "cell_type": "code",
   "execution_count": 1,
   "metadata": {},
   "outputs": [
    {
     "data": {
      "text/plain": [
       "'/home/alifahsanul/Documents/research/tb_classification/data_prep'"
      ]
     },
     "execution_count": 1,
     "metadata": {},
     "output_type": "execute_result"
    }
   ],
   "source": [
    "import os\n",
    "os.getcwd()"
   ]
  },
  {
   "cell_type": "code",
   "execution_count": 7,
   "metadata": {},
   "outputs": [],
   "source": [
    "from tqdm import trange\n",
    "from shutil import copyfile"
   ]
  },
  {
   "cell_type": "code",
   "execution_count": 14,
   "metadata": {},
   "outputs": [],
   "source": [
    "image_data_path = r'/home/alifahsanul/Documents/research/tb_classification/dataset/ChinaSet_AllFiles/CXR_png'\n",
    "image_metadata_path = r'/home/alifahsanul/Documents/research/tb_classification/dataset/ChinaSet_AllFiles/ClinicalReadings'\n",
    "normal_output_path = r'/home/alifahsanul/Documents/research/tb_classification/data_prep/rename_data/normal'\n",
    "abnormal_output_path = r'/home/alifahsanul/Documents/research/tb_classification/data_prep/rename_data/abnormal'"
   ]
  },
  {
   "cell_type": "code",
   "execution_count": 27,
   "metadata": {},
   "outputs": [
    {
     "name": "stderr",
     "output_type": "stream",
     "text": [
      "  8%|▊         | 51/663 [00:09<01:54,  5.33it/s]\n"
     ]
    }
   ],
   "source": [
    "listdir = os.listdir(image_data_path)\n",
    "normal_counter = 0\n",
    "abnormal_counter = 0\n",
    "for i in trange(len(listdir)):\n",
    "    f = listdir[i]\n",
    "    if not(f.endswith('.png')):\n",
    "        continue\n",
    "    if i > 50: break\n",
    "    filename = f[:-4]\n",
    "    metadata_filename = f'{filename}.txt'\n",
    "    image_path = os.path.join(image_data_path, f)\n",
    "    metadata_path = os.path.join(image_metadata_path, metadata_filename)\n",
    "    with open(metadata_path) as f:\n",
    "        lines = f.readlines()\n",
    "        f.close()\n",
    "    lines = [x.strip() for x in lines]\n",
    "    lines = [x for x in lines if len(x)>0]\n",
    "    detail = lines[0]\n",
    "    if filename[-1] == '0':\n",
    "        sickness = 'normal'\n",
    "        new_filename = f'{normal_counter}. {detail}.png'\n",
    "        normal_counter = normal_counter + 1\n",
    "        dest_path = os.path.join(normal_output_path, new_filename)\n",
    "    else:\n",
    "        sickness = lines[1]\n",
    "        assert sickness != 'normal'\n",
    "        new_filename = f'{abnormal_counter}. {detail} {sickness}.png'\n",
    "        abnormal_counter = abnormal_counter + 1\n",
    "        dest_path = os.path.join(abnormal_output_path, new_filename)\n",
    "    copyfile(image_path, dest_path)"
   ]
  },
  {
   "cell_type": "code",
   "execution_count": null,
   "metadata": {},
   "outputs": [],
   "source": []
  },
  {
   "cell_type": "code",
   "execution_count": null,
   "metadata": {},
   "outputs": [],
   "source": []
  },
  {
   "cell_type": "code",
   "execution_count": null,
   "metadata": {},
   "outputs": [],
   "source": []
  },
  {
   "cell_type": "code",
   "execution_count": null,
   "metadata": {},
   "outputs": [],
   "source": []
  },
  {
   "cell_type": "code",
   "execution_count": null,
   "metadata": {},
   "outputs": [],
   "source": []
  },
  {
   "cell_type": "code",
   "execution_count": null,
   "metadata": {},
   "outputs": [],
   "source": []
  },
  {
   "cell_type": "code",
   "execution_count": null,
   "metadata": {},
   "outputs": [],
   "source": []
  },
  {
   "cell_type": "code",
   "execution_count": null,
   "metadata": {},
   "outputs": [],
   "source": []
  },
  {
   "cell_type": "code",
   "execution_count": null,
   "metadata": {},
   "outputs": [],
   "source": []
  }
 ],
 "metadata": {
  "kernelspec": {
   "display_name": "Python 3",
   "language": "python",
   "name": "python3"
  },
  "language_info": {
   "codemirror_mode": {
    "name": "ipython",
    "version": 3
   },
   "file_extension": ".py",
   "mimetype": "text/x-python",
   "name": "python",
   "nbconvert_exporter": "python",
   "pygments_lexer": "ipython3",
   "version": "3.7.7"
  }
 },
 "nbformat": 4,
 "nbformat_minor": 4
}
