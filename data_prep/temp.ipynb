{
 "cells": [
  {
   "cell_type": "code",
   "execution_count": 2,
   "metadata": {},
   "outputs": [
    {
     "name": "stdout",
     "output_type": "stream",
     "text": [
      "Requirement already satisfied: ipython in /home/alifahsanul/anaconda3/lib/python3.7/site-packages (7.14.0)\n",
      "Requirement already satisfied: traitlets>=4.2 in /home/alifahsanul/anaconda3/lib/python3.7/site-packages (from ipython) (4.3.3)\n",
      "Requirement already satisfied: prompt-toolkit!=3.0.0,!=3.0.1,<3.1.0,>=2.0.0 in /home/alifahsanul/anaconda3/lib/python3.7/site-packages (from ipython) (3.0.5)\n",
      "Requirement already satisfied: pexpect; sys_platform != \"win32\" in /home/alifahsanul/anaconda3/lib/python3.7/site-packages (from ipython) (4.8.0)\n",
      "Requirement already satisfied: decorator in /home/alifahsanul/anaconda3/lib/python3.7/site-packages (from ipython) (4.4.2)\n",
      "Requirement already satisfied: backcall in /home/alifahsanul/anaconda3/lib/python3.7/site-packages (from ipython) (0.1.0)\n",
      "Requirement already satisfied: jedi>=0.10 in /home/alifahsanul/anaconda3/lib/python3.7/site-packages (from ipython) (0.17.0)\n",
      "Requirement already satisfied: pygments in /home/alifahsanul/anaconda3/lib/python3.7/site-packages (from ipython) (2.6.1)\n",
      "Requirement already satisfied: setuptools>=18.5 in /home/alifahsanul/anaconda3/lib/python3.7/site-packages (from ipython) (46.4.0.post20200518)\n",
      "Requirement already satisfied: pickleshare in /home/alifahsanul/anaconda3/lib/python3.7/site-packages (from ipython) (0.7.5)\n",
      "Requirement already satisfied: six in /home/alifahsanul/anaconda3/lib/python3.7/site-packages (from traitlets>=4.2->ipython) (1.14.0)\n",
      "Requirement already satisfied: ipython-genutils in /home/alifahsanul/anaconda3/lib/python3.7/site-packages (from traitlets>=4.2->ipython) (0.2.0)\n",
      "Requirement already satisfied: wcwidth in /home/alifahsanul/anaconda3/lib/python3.7/site-packages (from prompt-toolkit!=3.0.0,!=3.0.1,<3.1.0,>=2.0.0->ipython) (0.1.9)\n",
      "Requirement already satisfied: ptyprocess>=0.5 in /home/alifahsanul/anaconda3/lib/python3.7/site-packages (from pexpect; sys_platform != \"win32\"->ipython) (0.6.0)\n",
      "Requirement already satisfied: parso>=0.7.0 in /home/alifahsanul/anaconda3/lib/python3.7/site-packages (from jedi>=0.10->ipython) (0.7.0)\n"
     ]
    }
   ],
   "source": [
    "!pip install ipython"
   ]
  },
  {
   "cell_type": "code",
   "execution_count": 3,
   "metadata": {
    "scrolled": true
   },
   "outputs": [
    {
     "ename": "ModuleNotFoundError",
     "evalue": "No module named 'IPython.nbformat.current'",
     "output_type": "error",
     "traceback": [
      "\u001b[0;31m---------------------------------------------------------------------------\u001b[0m",
      "\u001b[0;31mModuleNotFoundError\u001b[0m                       Traceback (most recent call last)",
      "\u001b[0;32m<ipython-input-3-89ed1b971845>\u001b[0m in \u001b[0;36m<module>\u001b[0;34m\u001b[0m\n\u001b[0;32m----> 1\u001b[0;31m \u001b[0;32mimport\u001b[0m \u001b[0mIPython\u001b[0m\u001b[0;34m.\u001b[0m\u001b[0mnbformat\u001b[0m\u001b[0;34m.\u001b[0m\u001b[0mcurrent\u001b[0m \u001b[0;32mas\u001b[0m \u001b[0mnbf\u001b[0m\u001b[0;34m\u001b[0m\u001b[0;34m\u001b[0m\u001b[0m\n\u001b[0m\u001b[1;32m      2\u001b[0m \u001b[0mnb\u001b[0m \u001b[0;34m=\u001b[0m \u001b[0mnbf\u001b[0m\u001b[0;34m.\u001b[0m\u001b[0mread\u001b[0m\u001b[0;34m(\u001b[0m\u001b[0mopen\u001b[0m\u001b[0;34m(\u001b[0m\u001b[0;34m'C1M1_Assignment.py'\u001b[0m\u001b[0;34m,\u001b[0m \u001b[0;34m'r'\u001b[0m\u001b[0;34m)\u001b[0m\u001b[0;34m,\u001b[0m \u001b[0;34m'py'\u001b[0m\u001b[0;34m)\u001b[0m\u001b[0;34m\u001b[0m\u001b[0;34m\u001b[0m\u001b[0m\n\u001b[1;32m      3\u001b[0m \u001b[0mnbf\u001b[0m\u001b[0;34m.\u001b[0m\u001b[0mwrite\u001b[0m\u001b[0;34m(\u001b[0m\u001b[0mnb\u001b[0m\u001b[0;34m,\u001b[0m \u001b[0mopen\u001b[0m\u001b[0;34m(\u001b[0m\u001b[0;34m'test.ipynb'\u001b[0m\u001b[0;34m,\u001b[0m \u001b[0;34m'w'\u001b[0m\u001b[0;34m)\u001b[0m\u001b[0;34m,\u001b[0m \u001b[0;34m'ipynb'\u001b[0m\u001b[0;34m)\u001b[0m\u001b[0;34m\u001b[0m\u001b[0;34m\u001b[0m\u001b[0m\n",
      "\u001b[0;31mModuleNotFoundError\u001b[0m: No module named 'IPython.nbformat.current'"
     ]
    }
   ],
   "source": [
    "import IPython.nbformat.current as nbf\n",
    "nb = nbf.read(open('C1M1_Assignment.py', 'r'), 'py')\n",
    "nbf.write(nb, open('test.ipynb', 'w'), 'ipynb')"
   ]
  },
  {
   "cell_type": "code",
   "execution_count": null,
   "metadata": {},
   "outputs": [],
   "source": []
  }
 ],
 "metadata": {
  "kernelspec": {
   "display_name": "image_analysis",
   "language": "python",
   "name": "image_analysis"
  },
  "language_info": {
   "codemirror_mode": {
    "name": "ipython",
    "version": 3
   },
   "file_extension": ".py",
   "mimetype": "text/x-python",
   "name": "python",
   "nbconvert_exporter": "python",
   "pygments_lexer": "ipython3",
   "version": "3.7.7"
  }
 },
 "nbformat": 4,
 "nbformat_minor": 4
}
